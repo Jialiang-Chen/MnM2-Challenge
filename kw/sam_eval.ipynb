{
 "cells": [
  {
   "cell_type": "code",
   "execution_count": 3,
   "id": "initial_id",
   "metadata": {
    "collapsed": true,
    "ExecuteTime": {
     "end_time": "2024-08-28T14:29:01.956251Z",
     "start_time": "2024-08-28T14:28:47.266101Z"
    }
   },
   "outputs": [
    {
     "name": "stdout",
     "output_type": "stream",
     "text": [
      "Number of parameters: 93735472\r\n",
      "Directory ./data/mnm/test/pred/ already existing, deleting.\r\n",
      "Evaluating model for iteration 0...\r\n",
      "Evaluating (X / X images) (loss=X.X): 0it [00:00, ?it/s]\r\n",
      "Evaluating (0 / 1052 images) (dsc=0.96095): : 0it [00:03, ?it/s]\r\n",
      "Evaluating (1 / 1052 images) (dsc=0.95129): : 1it [00:05,  3.30s/it]\r\n",
      "Evaluating (2 / 1052 images) (dsc=0.93952): : 2it [00:07,  2.61s/it]\r\n",
      "Evaluating (3 / 1052 images) (dsc=0.93091): : 3it [00:09,  2.35s/it]\r\n",
      "Evaluating (3 / 1052 images) (dsc=0.93091): : 4it [00:09,  2.22s/it]^C\r\n",
      "Evaluating (3 / 1052 images) (dsc=0.93091): : 4it [00:10,  2.70s/it]\r\n",
      "4it [00:10,  2.70s/it]\r\n",
      "Traceback (most recent call last):\r\n",
      "  File \"/Users/kevinwhelan/PycharmProjects/medimg_seg/eval.py\", line 225, in <module>\r\n",
      "    main()\r\n",
      "  File \"/Users/kevinwhelan/PycharmProjects/medimg_seg/eval.py\", line 175, in main\r\n",
      "    outputs = model(**inputs, multimask_output=False)\r\n",
      "  File \"/Users/kevinwhelan/PycharmProjects/medimg_seg/.venv/lib/python3.10/site-packages/torch/nn/modules/module.py\", line 1553, in _wrapped_call_impl\r\n",
      "    return self._call_impl(*args, **kwargs)\r\n",
      "  File \"/Users/kevinwhelan/PycharmProjects/medimg_seg/.venv/lib/python3.10/site-packages/torch/nn/modules/module.py\", line 1562, in _call_impl\r\n",
      "    return forward_call(*args, **kwargs)\r\n",
      "  File \"/Users/kevinwhelan/PycharmProjects/medimg_seg/.venv/lib/python3.10/site-packages/transformers/models/sam/modeling_sam.py\", line 1354, in forward\r\n",
      "    vision_outputs = self.vision_encoder(\r\n",
      "  File \"/Users/kevinwhelan/PycharmProjects/medimg_seg/.venv/lib/python3.10/site-packages/torch/nn/modules/module.py\", line 1553, in _wrapped_call_impl\r\n",
      "    return self._call_impl(*args, **kwargs)\r\n",
      "  File \"/Users/kevinwhelan/PycharmProjects/medimg_seg/.venv/lib/python3.10/site-packages/torch/nn/modules/module.py\", line 1562, in _call_impl\r\n",
      "    return forward_call(*args, **kwargs)\r\n",
      "  File \"/Users/kevinwhelan/PycharmProjects/medimg_seg/.venv/lib/python3.10/site-packages/transformers/models/sam/modeling_sam.py\", line 1042, in forward\r\n",
      "    layer_outputs = layer_module(hidden_states, output_attentions=output_attentions)\r\n",
      "  File \"/Users/kevinwhelan/PycharmProjects/medimg_seg/.venv/lib/python3.10/site-packages/torch/nn/modules/module.py\", line 1553, in _wrapped_call_impl\r\n",
      "    return self._call_impl(*args, **kwargs)\r\n",
      "  File \"/Users/kevinwhelan/PycharmProjects/medimg_seg/.venv/lib/python3.10/site-packages/torch/nn/modules/module.py\", line 1562, in _call_impl\r\n",
      "    return forward_call(*args, **kwargs)\r\n",
      "  File \"/Users/kevinwhelan/PycharmProjects/medimg_seg/.venv/lib/python3.10/site-packages/transformers/models/sam/modeling_sam.py\", line 935, in forward\r\n",
      "    hidden_states, attn_weights = self.attn(\r\n",
      "  File \"/Users/kevinwhelan/PycharmProjects/medimg_seg/.venv/lib/python3.10/site-packages/torch/nn/modules/module.py\", line 1553, in _wrapped_call_impl\r\n",
      "    return self._call_impl(*args, **kwargs)\r\n",
      "  File \"/Users/kevinwhelan/PycharmProjects/medimg_seg/.venv/lib/python3.10/site-packages/torch/nn/modules/module.py\", line 1562, in _call_impl\r\n",
      "    return forward_call(*args, **kwargs)\r\n",
      "  File \"/Users/kevinwhelan/PycharmProjects/medimg_seg/.venv/lib/python3.10/site-packages/transformers/models/sam/modeling_sam.py\", line 838, in forward\r\n",
      "    attn_weights = self.add_decomposed_rel_pos(\r\n",
      "  File \"/Users/kevinwhelan/PycharmProjects/medimg_seg/.venv/lib/python3.10/site-packages/transformers/models/sam/modeling_sam.py\", line 812, in add_decomposed_rel_pos\r\n",
      "    relative_position_height = self.get_rel_pos(query_height, key_height, rel_pos_h)\r\n",
      "  File \"/Users/kevinwhelan/PycharmProjects/medimg_seg/.venv/lib/python3.10/site-packages/transformers/models/sam/modeling_sam.py\", line 765, in get_rel_pos\r\n",
      "    rel_pos_resized = F.interpolate(\r\n",
      "  File \"/Users/kevinwhelan/PycharmProjects/medimg_seg/.venv/lib/python3.10/site-packages/torch/nn/functional.py\", line 4073, in interpolate\r\n",
      "    return torch._C._nn.upsample_linear1d(input, output_size, align_corners, scale_factors)\r\n",
      "KeyboardInterrupt\r\n"
     ]
    }
   ],
   "source": [
    "!python eval.py --model ftsam --checkpoint ./checkpoints/checkpoint_FTSAM_epoch_19_BS_4_20240826-114355"
   ]
  },
  {
   "cell_type": "code",
   "outputs": [],
   "source": [],
   "metadata": {
    "collapsed": false
   },
   "id": "afe53a645f0d559a"
  }
 ],
 "metadata": {
  "kernelspec": {
   "display_name": "Python 3",
   "language": "python",
   "name": "python3"
  },
  "language_info": {
   "codemirror_mode": {
    "name": "ipython",
    "version": 2
   },
   "file_extension": ".py",
   "mimetype": "text/x-python",
   "name": "python",
   "nbconvert_exporter": "python",
   "pygments_lexer": "ipython2",
   "version": "2.7.6"
  }
 },
 "nbformat": 4,
 "nbformat_minor": 5
}
